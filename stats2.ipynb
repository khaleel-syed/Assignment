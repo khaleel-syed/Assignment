{
 "cells": [
  {
   "cell_type": "code",
   "execution_count": 10,
   "metadata": {},
   "outputs": [],
   "source": [
    "import warnings\n",
    "warnings.filterwarnings(\"ignore\")"
   ]
  },
  {
   "cell_type": "markdown",
   "metadata": {},
   "source": [
    "**Problem Statement 1:**\n",
    "    \n",
    "A test is conducted which is consisting of 20 MCQs (multiple choices questions) with every\n",
    "MCQ having its four options out of which only one is correct. Determine the probability that\n",
    "a person undertaking that test has answered exactly 5 questions wrong"
   ]
  },
  {
   "attachments": {},
   "cell_type": "markdown",
   "metadata": {},
   "source": [
    "**Solution**\n",
    "\n",
    "![title](01.BD.jpeg)"
   ]
  },
  {
   "cell_type": "code",
   "execution_count": 11,
   "metadata": {},
   "outputs": [],
   "source": [
    "n=20 # Number of MCQS\n",
    "p = 3/4 # Probability of choosing a wrong answer is 3 / 4\n",
    "q = 1/4\n",
    "# p(x=5) = ? , what is the probability that a person answer exactly 5 question wrong"
   ]
  },
  {
   "cell_type": "code",
   "execution_count": 12,
   "metadata": {},
   "outputs": [],
   "source": [
    "from scipy import stats"
   ]
  },
  {
   "cell_type": "code",
   "execution_count": 13,
   "metadata": {},
   "outputs": [],
   "source": [
    "x = stats.binom(20,3/4) # Binomial Distribution (n,p)"
   ]
  },
  {
   "cell_type": "code",
   "execution_count": 14,
   "metadata": {},
   "outputs": [
    {
     "name": "stdout",
     "output_type": "stream",
     "text": [
      "3.4264958230778435e-06\n"
     ]
    }
   ],
   "source": [
    "print(x.pmf(5)) # p(x=5) = the probability that a person answer exactly 5 questions wrong"
   ]
  },
  {
   "cell_type": "markdown",
   "metadata": {},
   "source": [
    "**Problem Statement 2:**\n",
    "    \n",
    "A die marked A to E is rolled 50 times. Find the probability of getting a “D” exactly\n",
    "5 times."
   ]
  },
  {
   "cell_type": "code",
   "execution_count": 24,
   "metadata": {},
   "outputs": [
    {
     "data": {
      "text/plain": [
       "0.029531204310523224"
      ]
     },
     "execution_count": 24,
     "metadata": {},
     "output_type": "execute_result"
    }
   ],
   "source": [
    "n = 50 # Total possible cases after rolling a die 50times\n",
    "p = 1/5 # Probability of getting 'D'\n",
    "q = 4/5 # Probability of not getting 'D'\n",
    "\n",
    "x = stats.binom(50,1/5)\n",
    "x.pmf(5)# probability of getting exactly a \"D\" 5 times"
   ]
  },
  {
   "cell_type": "markdown",
   "metadata": {},
   "source": [
    "**Problem Statement 3:**\n",
    "    \n",
    "Two balls are drawn at random in succession without replacement from an urn\n",
    "containing 4 red balls and 6 black balls.\n",
    "Find the probabilities of all the possible outcomes"
   ]
  },
  {
   "attachments": {},
   "cell_type": "markdown",
   "metadata": {},
   "source": [
    "**Solution**\n",
    "![title](02.urn.jpeg)"
   ]
  },
  {
   "cell_type": "code",
   "execution_count": null,
   "metadata": {},
   "outputs": [],
   "source": []
  }
 ],
 "metadata": {
  "kernelspec": {
   "display_name": "Python 3",
   "language": "python",
   "name": "python3"
  },
  "language_info": {
   "codemirror_mode": {
    "name": "ipython",
    "version": 3
   },
   "file_extension": ".py",
   "mimetype": "text/x-python",
   "name": "python",
   "nbconvert_exporter": "python",
   "pygments_lexer": "ipython3",
   "version": "3.7.4"
  }
 },
 "nbformat": 4,
 "nbformat_minor": 2
}
